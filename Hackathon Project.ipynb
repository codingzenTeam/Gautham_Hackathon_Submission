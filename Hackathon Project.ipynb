{
 "cells": [
  {
   "cell_type": "code",
   "execution_count": 8,
   "metadata": {},
   "outputs": [
    {
     "name": "stdout",
     "output_type": "stream",
     "text": [
      "Would you like to order yes\n",
      "Enter the category leafyvegetables\n",
      "The options are {'spinach': 6, 'lettuce': 8, 'cabbage': 10}\n",
      "Enter the item cabbage\n",
      "Enter the quantity 25\n",
      "Would you like to order no\n",
      "The quantities you bought are {'cabbage': 25}\n",
      "The total price for each item is {'cabbage': 250}\n",
      "The final bill to pay is 225.0\n",
      "Final stock left is {'apple': 100, 'banana': 125, 'mango': 42, 'carrot': 85, 'onion': 64, 'potato': 56, 'spinach': 73, 'lettuce': 44, 'cabbage': 5, 'ice-cream': 20, 'fish': 15, 'juice': 30}\n"
     ]
    }
   ],
   "source": [
    "#billingsystem\n",
    "fruits = {\"apple\": 7, \"banana\": 5, \"mango\": 8}\n",
    "vegetables = {\"carrot\": 6, \"onion\": 5, \"potato\": 9}\n",
    "leafyvegetables = {\"spinach\": 6, \"lettuce\": 8, \"cabbage\": 10}\n",
    "frozen = {\"ice-cream\": 15, \"fish\": 20, \"juice\": 12}\n",
    "combined={**fruits,**vegetables,**leafyvegetables,**frozen}\n",
    "quantities={\"apple\": 100, \"banana\": 125, \"mango\": 42, \"carrot\": 85, \"onion\": 64, \"potato\": 56,\n",
    "           \"spinach\": 73, \"lettuce\": 44, \"cabbage\": 30, \"ice-cream\": 20, \"fish\": 15, \"juice\": 30}\n",
    "ask=input(\"Would you like to order \").lower()\n",
    "quantity={}\n",
    "price={}\n",
    "total=0\n",
    "while ask==\"yes\":\n",
    "    option=input(\"Enter the category \").lower()\n",
    "    if option==\"fruits\":\n",
    "        print(\"The options are\", fruits)\n",
    "    elif option==\"vegetables\":\n",
    "        print(\"The options are\", vegetables)\n",
    "    elif option==\"leafyvegetables\":\n",
    "        print(\"The options are\", leafyvegetables)\n",
    "    elif option==\"frozen\":\n",
    "        print(\"The options are\", frozen)\n",
    "    else:\n",
    "        print(\"Please enter a valid category\") \n",
    "        break\n",
    "    option2=input(\"Enter the item \").lower()\n",
    "    if option2 not in quantities.keys():\n",
    "        print(\"Please enter a valid item\")\n",
    "        break\n",
    "    else:\n",
    "        for i in quantities.keys():\n",
    "            if i==option2:\n",
    "                q=int(input(\"Enter the quantity \"))\n",
    "                quantities[i]=quantities[i]-q\n",
    "                quantity[i]=q\n",
    "                price[i]=q*combined[i]\n",
    "    ask=input(\"Would you like to order \").lower()\n",
    "for j in price.values():\n",
    "    total=total+j\n",
    "if total>200:\n",
    "    total= 0.9 * total\n",
    "else:\n",
    "    total = total + 10\n",
    "if quantity != {}:\n",
    "    print(\"The quantities you bought are\", quantity)\n",
    "    print(\"The total price for each item is\", price)\n",
    "    print(\"The final bill to pay is\", total)\n",
    "    print(\"Final stock left is\", quantities)\n",
    "else:\n",
    "    print(\"Nothing was bought\")"
   ]
  },
  {
   "cell_type": "code",
   "execution_count": null,
   "metadata": {},
   "outputs": [],
   "source": []
  }
 ],
 "metadata": {
  "kernelspec": {
   "display_name": "Python 3",
   "language": "python",
   "name": "python3"
  },
  "language_info": {
   "codemirror_mode": {
    "name": "ipython",
    "version": 3
   },
   "file_extension": ".py",
   "mimetype": "text/x-python",
   "name": "python",
   "nbconvert_exporter": "python",
   "pygments_lexer": "ipython3",
   "version": "3.8.8"
  }
 },
 "nbformat": 4,
 "nbformat_minor": 4
}
